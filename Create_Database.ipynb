{
 "cells": [
  {
   "cell_type": "markdown",
   "metadata": {},
   "source": [
    "# Create Database"
   ]
  },
  {
   "cell_type": "code",
   "execution_count": 1,
   "metadata": {},
   "outputs": [],
   "source": [
    "import pandas as pd\n",
    "import sqlite3"
   ]
  },
  {
   "cell_type": "code",
   "execution_count": 8,
   "metadata": {},
   "outputs": [],
   "source": [
    "connection = sqlite3.connect(\"wikidata_wars.db\")\n",
    "c = connection.cursor()"
   ]
  },
  {
   "cell_type": "code",
   "execution_count": 9,
   "metadata": {},
   "outputs": [],
   "source": [
    "table_creation_statements = [\n",
    "\"\"\"\n",
    "create table WAR(\n",
    "warID TEXT NOT NULL,\n",
    "warName TEXT,\n",
    "warDescription TEXT,\n",
    "startDate TEXT,\n",
    "endDate TEXT,\n",
    "prevWarID TEXT,\n",
    "nextWarID TEXT,\n",
    "PRIMARY KEY (warID)\n",
    ");\n",
    "\"\"\",\n",
    "\"\"\"\n",
    "create table WAR_DEATHS(\n",
    "warID TEXT NOT NULL,\n",
    "deaths INT NOT NULL,\n",
    "PRIMARY KEY (warID, deaths),\n",
    "FOREIGN KEY (warID)\n",
    "    REFERENCES WAR (warID)\n",
    ");\n",
    "\"\"\",\n",
    "\"\"\"\n",
    "create table WAR_LARGERCONFLICTS(\n",
    "warID TEXT NOT NULL,\n",
    "largerConflictID TEXT NOT NULL,\n",
    "PRIMARY KEY (warID, largerConflictID),\n",
    "FOREIGN KEY (warID)\n",
    "    REFERENCES WAR (warID)\n",
    ");\n",
    "\"\"\",\n",
    "\"\"\"\n",
    "create table LOCATION(\n",
    "locationID TEXT NOT NULL,\n",
    "locationLabel TEXT,\n",
    "locationDescription TEXT,\n",
    "coordinates TEXT,\n",
    "PRIMARY KEY (locationID)\n",
    ");\n",
    "\"\"\",\n",
    "\"\"\"\n",
    "create table WAR_LOCATIONS(\n",
    "warID TEXT NOT NULL,\n",
    "locationID TEXT NOT NULL,\n",
    "PRIMARY KEY (warID, locationID),\n",
    "FOREIGN KEY (warID)\n",
    "    REFERENCES WAR (warID),\n",
    "FOREIGN KEY (locationID)\n",
    "    REFERENCES LOCATION (locationID)\n",
    ");\n",
    "\"\"\",\n",
    "\"\"\"\n",
    "create table PARTICIPANTS(\n",
    "participantID TEXT NOT NULL,\n",
    "participantLabel TEXT,\n",
    "participantDescription TEXT,\n",
    "type TEXT CHECK (type IN ('State', 'Political Party', 'International Organization', 'Terrorist Organization', \n",
    "                          'Armed Organization', 'Ethnic Group', 'Other Organization', 'Person', 'Other')),\n",
    "inception TEXT,\n",
    "dissolved TEXT,\n",
    "countryCode TEXT,\n",
    "PRIMARY KEY (participantID)\n",
    ");\n",
    "\"\"\",\n",
    "\"\"\"\n",
    "create table WAR_PARTICIPANTS(\n",
    "warID TEXT NOT NULL,\n",
    "participantID TEXT NOT NULL,\n",
    "PRIMARY KEY (warID, participantID),\n",
    "FOREIGN KEY (warID)\n",
    "    REFERENCES WAR (warID),\n",
    "FOREIGN KEY (participantID)\n",
    "    REFERENCES PARTICIPANTS (participantID)\n",
    ");\n",
    "\"\"\"]"
   ]
  },
  {
   "cell_type": "code",
   "execution_count": 10,
   "metadata": {},
   "outputs": [
    {
     "name": "stdout",
     "output_type": "stream",
     "text": [
      "success\n",
      "success\n",
      "success\n",
      "success\n",
      "success\n",
      "success\n",
      "success\n"
     ]
    }
   ],
   "source": [
    "for t in table_creation_statements:\n",
    "    c.execute(t)\n",
    "    print(\"success\")"
   ]
  },
  {
   "cell_type": "code",
   "execution_count": 11,
   "metadata": {},
   "outputs": [],
   "source": [
    "connection.commit()"
   ]
  },
  {
   "cell_type": "code",
   "execution_count": null,
   "metadata": {},
   "outputs": [],
   "source": []
  }
 ],
 "metadata": {
  "kernelspec": {
   "display_name": "Python [conda env:ds-base-env] *",
   "language": "python",
   "name": "conda-env-ds-base-env-py"
  },
  "language_info": {
   "codemirror_mode": {
    "name": "ipython",
    "version": 3
   },
   "file_extension": ".py",
   "mimetype": "text/x-python",
   "name": "python",
   "nbconvert_exporter": "python",
   "pygments_lexer": "ipython3",
   "version": "3.8.0"
  }
 },
 "nbformat": 4,
 "nbformat_minor": 4
}
