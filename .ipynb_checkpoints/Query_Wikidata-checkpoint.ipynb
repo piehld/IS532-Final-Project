{
 "cells": [
  {
   "cell_type": "markdown",
   "metadata": {},
   "source": [
    "# Query WikiData"
   ]
  },
  {
   "cell_type": "code",
   "execution_count": 1,
   "metadata": {},
   "outputs": [],
   "source": [
    "import requests\n",
    "import pandas as pd\n",
    "from collections import OrderedDict"
   ]
  },
  {
   "cell_type": "code",
   "execution_count": 2,
   "metadata": {},
   "outputs": [],
   "source": [
    "url = 'https://query.wikidata.org/sparql'"
   ]
  },
  {
   "cell_type": "markdown",
   "metadata": {},
   "source": [
    "## Building the Query - Essentials for each query\n",
    "\n",
    "`?event wdt:P31/wdt:P279* wd:Q198.`\n",
    "Event is an instance of (P31) or subclass of (P279) war (Q198).\n",
    "\n",
    "`?event wdt:P710 ?participants.`\n",
    "Event has participants (P710) Participant.\n",
    "\n",
    "`?event wdt:P580 ?startDate.`\n",
    "Event has start time (P580) StartDate.\n",
    "\n",
    "`FILTER(YEAR(?startDate) >= 1946).`\n",
    "Event has start date after 1946"
   ]
  },
  {
   "cell_type": "markdown",
   "metadata": {},
   "source": [
    "## Wars & their participants"
   ]
  },
  {
   "cell_type": "code",
   "execution_count": 3,
   "metadata": {},
   "outputs": [],
   "source": [
    "query1 = \"\"\"\n",
    "SELECT DISTINCT\n",
    "  ?event ?participant\n",
    "WHERE {\n",
    "  ?event wdt:P31/wdt:P279* wd:Q198.\n",
    "  OPTIONAL { ?event wdt:P710 ?participant }\n",
    "  ?event wdt:P580 ?startDate\n",
    "  FILTER(YEAR(?startDate) >= 1946).\n",
    "  SERVICE wikibase:label { bd:serviceParam wikibase:language \"en\". }\n",
    "}\n",
    "\"\"\""
   ]
  },
  {
   "cell_type": "code",
   "execution_count": 4,
   "metadata": {},
   "outputs": [],
   "source": [
    "r1 = requests.get(url, params = {'format': 'json', 'query': query1})\n",
    "data1 = r1.json()\n",
    "\n",
    "wars_pars = []\n",
    "for item in data1['results']['bindings']:\n",
    "    wars_pars.append(OrderedDict({\n",
    "        label : item[label]['value'] if label in item else None\n",
    "        for label in ['event', 'participant']}))"
   ]
  },
  {
   "cell_type": "code",
   "execution_count": 5,
   "metadata": {},
   "outputs": [],
   "source": [
    "df1 = pd.DataFrame(wars_pars)\n",
    "df1.to_csv(\"Data/Queried/wars_participants.csv\", index=False, encoding='utf-8')"
   ]
  },
  {
   "cell_type": "markdown",
   "metadata": {},
   "source": [
    "## Wars"
   ]
  },
  {
   "cell_type": "code",
   "execution_count": 6,
   "metadata": {},
   "outputs": [],
   "source": [
    "query2 = \"\"\"\n",
    "SELECT DISTINCT\n",
    "  ?event ?eventLabel ?eventDescription ?startDate ?endDate ?location ?casualties ?prevWar ?nextWar ?largerConflict\n",
    "WHERE {\n",
    "  ?event wdt:P31/wdt:P279* wd:Q198.\n",
    "  ?event wdt:P580 ?startDate.\n",
    "  OPTIONAL { ?event wdt:P582 ?endDate. }\n",
    "  OPTIONAL { ?event wdt:P276 ?location. }\n",
    "  OPTIONAL { ?event wdt:P155 ?prevWar. }\n",
    "  OPTIONAL { ?event wdt:P156 ?nextWar. }\n",
    "  OPTIONAL { ?event wdt:P361 ?largerConflict. }\n",
    "  OPTIONAL { ?event wdt:P1120 ?casualties }\n",
    "  FILTER(YEAR(?startDate) >= 1946).\n",
    "  SERVICE wikibase:label { bd:serviceParam wikibase:language \"en\". }\n",
    "}\n",
    "\"\"\""
   ]
  },
  {
   "cell_type": "code",
   "execution_count": 7,
   "metadata": {},
   "outputs": [],
   "source": [
    "r2 = requests.get(url, params = {'format': 'json', 'query': query2})\n",
    "data2 = r2.json()\n",
    "\n",
    "wars = []\n",
    "for item in data2['results']['bindings']:\n",
    "    wars.append(OrderedDict({\n",
    "        label : item[label]['value'] if label in item else None\n",
    "        for label in ['event', 'eventLabel', 'eventDescription', 'startDate', 'endDate', 'location', \n",
    "                      'casualties', 'prevWar', 'nextWar', 'largerConflict']}))"
   ]
  },
  {
   "cell_type": "code",
   "execution_count": 8,
   "metadata": {},
   "outputs": [],
   "source": [
    "df2 = pd.DataFrame(wars)\n",
    "df2.to_csv(\"Data/Queried/wars.csv\", index=False, encoding='utf-8')"
   ]
  },
  {
   "cell_type": "markdown",
   "metadata": {},
   "source": [
    "get location details"
   ]
  },
  {
   "cell_type": "code",
   "execution_count": 9,
   "metadata": {},
   "outputs": [],
   "source": [
    "query2l = \"\"\"\n",
    "SELECT DISTINCT\n",
    "  ?location ?locationLabel ?locationDescription ?coordinates\n",
    "WHERE {\n",
    "  ?event wdt:P31/wdt:P279* wd:Q198.\n",
    "  ?event wdt:P580 ?startDate.\n",
    "  ?event wdt:P276 ?location.\n",
    "  OPTIONAL { ?location wdt:P625 ?coordinates. }\n",
    "  FILTER(YEAR(?startDate) >= 1946).\n",
    "  SERVICE wikibase:label { bd:serviceParam wikibase:language \"en\". }\n",
    "}\n",
    "\"\"\""
   ]
  },
  {
   "cell_type": "code",
   "execution_count": 10,
   "metadata": {},
   "outputs": [],
   "source": [
    "r2l = requests.get(url, params = {'format': 'json', 'query': query2l})\n",
    "data2l = r2l.json()\n",
    "\n",
    "locations = []\n",
    "for item in data2l['results']['bindings']:\n",
    "    locations.append(OrderedDict({\n",
    "        label : item[label]['value'] if label in item else None\n",
    "        for label in ['location', 'locationLabel', 'locationDescription', 'coordinates']}))"
   ]
  },
  {
   "cell_type": "code",
   "execution_count": 11,
   "metadata": {},
   "outputs": [],
   "source": [
    "df2l = pd.DataFrame(locations)"
   ]
  },
  {
   "cell_type": "code",
   "execution_count": 12,
   "metadata": {},
   "outputs": [],
   "source": [
    "df2l.to_csv(\"Data/Queried/war_locations.csv\", index=False, encoding='utf-8')"
   ]
  },
  {
   "cell_type": "markdown",
   "metadata": {},
   "source": [
    "## Participants"
   ]
  },
  {
   "cell_type": "code",
   "execution_count": 13,
   "metadata": {},
   "outputs": [],
   "source": [
    "query3 = \"\"\"\n",
    "SELECT DISTINCT\n",
    "  ?participant ?participantLabel ?participantDescription ?type ?inception ?dissolved ?countryCode\n",
    "WHERE {\n",
    "  ?event wdt:P31/wdt:P279* wd:Q198.\n",
    "  ?event wdt:P710 ?participant.\n",
    "  ?event wdt:P580 ?startDate.\n",
    "  FILTER(YEAR(?startDate) >= 1946).\n",
    "  OPTIONAL { ?participant wdt:P571 ?inception. }\n",
    "  OPTIONAL { ?participant wdt:P576 ?dissolved. }\n",
    "  OPTIONAL { ?participant wdt:P298 ?countryCode. }\n",
    "  BIND(\n",
    "        IF(EXISTS {?participant wdt:P31/wdt:P279* wd:Q7275}, \"State\",\n",
    "        IF(EXISTS {?participant wdt:P31/wdt:P279* wd:Q7278}, \"Political Party\",\n",
    "        IF(EXISTS {?participant wdt:P31/wdt:P279* wd:Q484652}, \"International Organization\",\n",
    "        IF(EXISTS {?participant wdt:P31/wdt:P279* wd:Q17127659}, \"Terrorist Organization\",\n",
    "        IF(EXISTS {?participant wdt:P31/wdt:P279* wd:Q17149090}, \"Armed Organization\",\n",
    "        IF(EXISTS {?participant wdt:P31/wdt:P279* wd:Q41710}, \"Ethnic Group\",\n",
    "        IF(EXISTS {?participant wdt:P31/wdt:P279* wd:Q43229}, \"Other Organization\", \n",
    "        IF(EXISTS {?participant wdt:P31/wdt:P279* wd:Q5}, \"Person\",\n",
    "           \"Other\"))))))))\n",
    "    AS ?type)\n",
    "  \n",
    "  SERVICE wikibase:label { bd:serviceParam wikibase:language \"en\". }\n",
    "}\n",
    "\"\"\""
   ]
  },
  {
   "cell_type": "code",
   "execution_count": 14,
   "metadata": {},
   "outputs": [],
   "source": [
    "r3 = requests.get(url, params = {'format': 'json', 'query': query3})\n",
    "data3 = r3.json()\n",
    "\n",
    "par = []\n",
    "for item in data3['results']['bindings']:\n",
    "    par.append(OrderedDict({\n",
    "        label : item[label]['value'] if label in item else None\n",
    "        for label in ['participant', 'participantLabel', 'participantDescription', 'type', 'inception', 'dissolved', 'countryCode']}))"
   ]
  },
  {
   "cell_type": "code",
   "execution_count": 15,
   "metadata": {},
   "outputs": [],
   "source": [
    "df3 = pd.DataFrame(par)\n",
    "df3.to_csv(\"Data/Queried/participants.csv\", index=False, encoding='utf-8')"
   ]
  }
 ],
 "metadata": {
  "kernelspec": {
   "display_name": "Python [conda env:ds-base-env] *",
   "language": "python",
   "name": "conda-env-ds-base-env-py"
  },
  "language_info": {
   "codemirror_mode": {
    "name": "ipython",
    "version": 3
   },
   "file_extension": ".py",
   "mimetype": "text/x-python",
   "name": "python",
   "nbconvert_exporter": "python",
   "pygments_lexer": "ipython3",
   "version": "3.8.0"
  }
 },
 "nbformat": 4,
 "nbformat_minor": 4
}
